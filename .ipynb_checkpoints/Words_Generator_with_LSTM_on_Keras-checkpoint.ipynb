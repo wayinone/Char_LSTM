{
 "cells": [
  {
   "cell_type": "markdown",
   "metadata": {},
   "source": [
    "# Words Generator with LSTM on Keras\n",
    "\n",
    "##### Wei-Ying Wang 6/13/2017\n",
    "\n",
    "This is a simple LSTM model built with Keras. The purpose of this tutorial is to help you gain some understanding of LSTM model and the usage of Keras. This post is generated from jupyter notebook. You can download the .ipynb file, along with the material used here, at [My Github](https://github.com/wayinone/Char_LSTM)\n",
    "\n",
    "The code here wants to build [Karpathy's Character-Level Language Models](https://gist.github.com/karpathy/d4dee566867f8291f086) with Keras. Karpathy posted the idea on his [blog](http://karpathy.github.io/2015/05/21/rnn-effectiveness/). It is a very fun blog post, which generated shakespear's article, as well as Latex file with many math symbols. I guess we will never run out of papers this way... Most of all, this seems to be a great starting point to understand recurrant networks.\n",
    "\n",
    "I found a lot of \"typo\" in the official document of [keras](keras.io). Don't be too harsh to them; it is expected since keras is a extemely complicated module and it is hard for their document to keep on track of their own update. I write this tutorial to help people that want to try LSTM on Keras. I spent a lot of time looking into the script of keras, which can be found in your python folder:\n",
    "```\n",
    "\\Lib\\site-packages\\keras\n",
    "```\n",
    "\n",
    "The following code is running on \n",
    "```\n",
    "Python 3.6.0 (v3.6.0:41df79263a11, Dec 23 2016, 08:06:12) [MSC v.1900 64 bit (AMD64)]\n",
    "\n",
    "keras version 1.2.2\n",
    "```"
   ]
  },
  {
   "cell_type": "markdown",
   "metadata": {},
   "source": [
    "## Shakespeare vs the Counterfeit\n",
    "Let's take a peek at the masterpiece:\n",
    "\n",
    ">Second Citizen:<br />\n",
    "Consider you what services he has done for his country?<br />\n",
    "<br />\n",
    "First Citizen:<br />\n",
    "Very well; and could be content to give him good\n",
    "report fort, but that he pays himself with being proud.<br />\n",
    "<br />\n",
    "Second Citizen:<br />\n",
    "Nay, but speak not maliciously.<br />\n",
    "<br />\n",
    "First Citizen:<br />\n",
    "I say unto you, what he hath done famously, he did\n",
    "it to that end: though soft-conscienced men can be\n",
    "content to say it was for his country he did it to\n",
    "please his mother and to be partly proud; which he\n",
    "is, even till the altitude of his virtue.<br />\n",
    "<br />\n",
    "Second Citizen:<br />\n",
    "What he cannot help in his nature, you account a\n",
    "vice in him. You must in no way say he is covetous.<br />\n",
    "<br />\n",
    "First Citizen:<br />\n",
    "If I must not, I need not be barren of accusations;\n",
    "he hath faults, with surplus, to tire in repetition.\n",
    "What shouts are these? The other side o' the city\n",
    "is risen: why stay we prating here? to the Capitol!\n",
    "\n",
    "Ane the following is the counterfeit:\n",
    ">tyrrin:<br />\n",
    "in this follow'd her emeth tworthbour both!<br />\n",
    "the great of roguess and crave-<br />\n",
    "down to come they made presence not been me would?<br />\n",
    "<br />\n",
    "stanley:<br />\n",
    "my rogrer to thy sorrow and, none.<br />\n",
    "<br />\n",
    "king richard iii:<br />\n",
    "o, lading freeftialf\n",
    "the brown'd of this well was a\n",
    "manol, let me happy wife on the conqueser love.<br />\n",
    "<br />\n",
    "king richard iii:<br />\n",
    "no, tyrend, and only his storces wish'd,\n",
    "as there, and did her injury.<br />\n",
    "<br />\n",
    "hastings:<br />\n",
    "o, shall you shall be thee,\n",
    "the banters, that the orditalles in provarable-shidam; i did not be so frangerarr engley!\n",
    "what is follow'd hastely be good in my son.<br />\n",
    "<br />\n",
    "king richard iii:<br />\n",
    "or you good thought,\n",
    "were they hatenings at temper his falls,\n",
    "firsh to by do all,\n",
    "and adsime.\n",
    "if i her joy.\n",
    "\n",
    "\n",
    "It is amazing how similar (structurewise) between the real work and the conterfeit. This tutorial will tell you step by step how this can be down with keras, along with some of my notes about the usage of keras.\n"
   ]
  },
  {
   "cell_type": "code",
   "execution_count": 1,
   "metadata": {
    "collapsed": false
   },
   "outputs": [
    {
     "name": "stderr",
     "output_type": "stream",
     "text": [
      "Using TensorFlow backend.\n"
     ]
    }
   ],
   "source": [
    "import numpy as np\n",
    "from __future__ import print_function\n",
    "from keras.preprocessing import sequence\n",
    "from keras.optimizers import Adam\n",
    "from keras.models import Sequential, load_model\n",
    "from keras.layers import Dense\n",
    "from keras.layers.recurrent import LSTM\n",
    "from keras.callbacks import EarlyStopping\n",
    "import pickle\n",
    "import AuxFcn"
   ]
  },
  {
   "cell_type": "markdown",
   "metadata": {},
   "source": [
    "## Data input\n",
    "\n",
    "A small part of the code in this section is using Karpathy's code in [here](https://gist.github.com/karpathy/d4dee566867f8291f086). \n",
    "\n",
    "The original shakespeare data has 65 distint characters. To relieve some computational burden, I reduced it into 36 characters with my own function `AuxFcn.data_reducing()`. Basically, I change all the uppercase letters to lowercase one, and only retain\n",
    "```\n",
    "\",.?! \\n:;-'\"\n",
    "```\n",
    "characters. Should any other characters appear in the raw data, I simply change it into space character.\n",
    "\n",
    "In the end we tranfer the strings of size `n` into a list of integers, `x`. You can convert the interger back to string by dictionary `ix2char`."
   ]
  },
  {
   "cell_type": "code",
   "execution_count": 28,
   "metadata": {
    "collapsed": false
   },
   "outputs": [
    {
     "name": "stdout",
     "output_type": "stream",
     "text": [
      "Data has 1115394 ASCII characters, where 36 of them are unique.\n"
     ]
    }
   ],
   "source": [
    "#%%\n",
    "data = open('tinyShakespeare.txt', 'r').read() \n",
    "data = AuxFcn.data_reducing(data)\n",
    "\n",
    "chars = list(set(data))\n",
    "n, d = len(data), len(chars)\n",
    "print('Data has %d ASCII characters, where %d of them are unique.' % (n, d))\n",
    "char2ix = { ch:i for i,ch in enumerate(chars) }\n",
    "ix2char = { i:ch for i,ch in enumerate(chars) }\n",
    "#%% from text data to int32\n",
    "x = [char2ix[data[i]] for i in range(len(data))]"
   ]
  },
  {
   "cell_type": "code",
   "execution_count": 41,
   "metadata": {
    "collapsed": false
   },
   "outputs": [
    {
     "data": {
      "text/plain": [
       "dict_keys(['v', 'k', '!', 's', 'n', 'e', 'c', '.', 'f', '-', 'r', 'w', 'q', 'z', \"'\", '\\n', 'y', 'h', 'u', ';', ' ', 'o', 'a', 'd', 'i', '?', 'l', 'm', 'j', 'b', 't', ':', 'g', 'p', 'x', ','])"
      ]
     },
     "execution_count": 41,
     "metadata": {},
     "output_type": "execute_result"
    }
   ],
   "source": [
    "char2ix.keys()"
   ]
  },
  {
   "cell_type": "code",
   "execution_count": null,
   "metadata": {
    "collapsed": true
   },
   "outputs": [],
   "source": [
    "pickle.dump(ix2char,open('dic_used_LSTM_16_128.pkl','wb')) \n",
    "# You will want to save it, since everytime you will get different ix2char dictionary, since you have use set() before it."
   ]
  },
  {
   "cell_type": "markdown",
   "metadata": {},
   "source": [
    "# First model: Using 16 words to predict the next word\n",
    "\n",
    "Our model will only make prediction based on the previous `T` characters. This is done by setting the time_step, $T$ by `T=16.`\n",
    "\n",
    "First we have to convert x into onehot representation. So we convert `x` (which is a interger list of size `(n,)`) to `x_nTd`. Also, we set the prediction `y_n`.\n",
    "\n",
    " * `x_ntd`: numpy `Boolean` array of size `(n,T,d)`, where `d` is the number of possible characters (`d=36`).\n",
    " * `y_n`: numpy `Boolean` array of size `(n,d)`. \n",
    "  - For i=1,2,...,n, `y_n[i,:]=x[i+1,0,:]`. \n",
    "\n",
    "Note that I only use `N=200000` samples to build the model."
   ]
  },
  {
   "cell_type": "code",
   "execution_count": 26,
   "metadata": {
    "collapsed": false
   },
   "outputs": [],
   "source": [
    "T=16\n",
    "x_nTd,y_n = AuxFcn.create_catgorical_dataset(x, d,T)\n",
    "\n",
    "N = 200000\n",
    "x_tmp,y_tmp = x_nTd[:N,:,:],y_n[:N,:]"
   ]
  },
  {
   "cell_type": "code",
   "execution_count": 15,
   "metadata": {
    "collapsed": false
   },
   "outputs": [
    {
     "name": "stdout",
     "output_type": "stream",
     "text": [
      "These are 15 of the samples of a slice of `x_tmp`:\n",
      "\n",
      "hief enemy to t\n",
      "\n",
      "The following is corresponding `y`, You can see that `y_n[i,:]=x[i+1,0,:]`:\n",
      "\n",
      "ief enemy to th\n"
     ]
    }
   ],
   "source": [
    "print('These are 15 of the samples of a slice of `x_tmp`:\\n')\n",
    "print(AuxFcn.translate(x_tmp[200:215,-1,:],ix2char))\n",
    "print('\\nThe following is corresponding `y`, You can see that `y_n[i,:]=x[i+1,0,:]`:\\n')\n",
    "print(AuxFcn.translate(y_tmp[200:215,:],ix2char))"
   ]
  },
  {
   "cell_type": "markdown",
   "metadata": {},
   "source": [
    "## Constructing an LSTM layer \n",
    "\n",
    " 1. In the following, we will assign the first layer to be LSTM\n",
    "    ```\n",
    "    m=128\n",
    "    model.add(LSTM(m, input_shape=(T, d))).\n",
    "    ```\n",
    "    This means: when unroll this recurrent layer, we will see:\n",
    "\n",
    "      * 6 LSTM cells, that output T hidden units $(h_1,...,h_T)$, where each unit is a vector of size $m$. \n",
    "        - Note that there are also T state units $(s_1,...,s_T)$, that only used between the LSTM cells in the same layer.\n",
    "          - the state units (AKA recurrent units) controls long term information, which will be controlled by forget gate. \n",
    "      * The input layer are T units  $(x_1,...,x_T)$, each unit is a vector of size `d`\n",
    "      * Note that every LSTM cell **shares** the same parameter.\n",
    "\n",
    " 2. The next layer is the output layer, using `softmax`. Note that the softmax only applies on the information of $h_T$, the last activation of $h$. \n",
    "\n",
    " 3. The structure of the unrolled neural network is (Also, take a look at Appendix 4, where a different architechure is defined):\n",
    "    ```\n",
    "                          y\n",
    "                          |\n",
    "    h_1 -- h_2 -- ... -- h_T\n",
    "     |      |     ...     |\n",
    "    x_1    x_2    ...    x_T\n",
    "\n",
    "    ```\n",
    "\n",
    "### Parameters in LSTM layer\n",
    "\n",
    "I will give a little explaination on the numbers of parameter of a LSTM layer.\n",
    "\n",
    "The calculation of $h_t$, $t=1,2,...,T$, requires:$$U\\cdot h_{t-1}+W\\cdot x_t+b,$$ where       \n",
    " \n",
    " - $U = (U_f,U_c,U_o,U_i)$,\n",
    " - $W = (W_f,W_c,W_o,W_i)$, and\n",
    " - $b = (b_f,b_c,b_o,b_i)$, where\n",
    "   - $f$: forget gate\n",
    "   - $c$: internal state \n",
    "   - $o$: output gate\n",
    "   - $i$: input \n",
    "     \n",
    "Note that each $U$ is (m,m), each $W$ is (m,d), each $h$ is (m,). Thus, in total we have\n",
    "$$4\\cdot(m^2+m\\cdot d+m)$$ parameters.\n",
    "\n",
    "### Forward Propagation\n",
    "\n",
    "The forward propagation will be: set $h_0=\\bf 0$ and $s_0=\\bf 0$, then\n",
    "  \n",
    "  1. input $x_1$, then calculate $h_1$ and $s_1$, then\n",
    "  2. input $x_2$, then calculate $h_2$ and $s_2$, and so on\n",
    "  3. Unitl obatain $h_T$\n",
    "  \n"
   ]
  },
  {
   "cell_type": "code",
   "execution_count": 17,
   "metadata": {
    "collapsed": false
   },
   "outputs": [
    {
     "name": "stdout",
     "output_type": "stream",
     "text": [
      "____________________________________________________________________________________________________\n",
      "Layer (type)                     Output Shape          Param #     Connected to                     \n",
      "====================================================================================================\n",
      "lstm_2 (LSTM)                    (None, 128)           84480       lstm_input_2[0][0]               \n",
      "____________________________________________________________________________________________________\n",
      "dense_2 (Dense)                  (None, 36)            4644        lstm_2[0][0]                     \n",
      "====================================================================================================\n",
      "Total params: 89,124\n",
      "Trainable params: 89,124\n",
      "Non-trainable params: 0\n",
      "____________________________________________________________________________________________________\n"
     ]
    }
   ],
   "source": [
    "m=128\n",
    "model = Sequential()\n",
    "model.add(LSTM(m, input_shape=(T, d)))\n",
    "model.add(Dense(d,activation='softmax'))\n",
    "#%%\n",
    "adam = Adam(clipvalue=1)# all the gradient will be clipped to the interval [-1,1]\n",
    "model.compile(loss='categorical_crossentropy',\n",
    "              optimizer=adam,\n",
    "              metrics=['accuracy'])\n",
    "model.summary()"
   ]
  },
  {
   "cell_type": "markdown",
   "metadata": {},
   "source": [
    "Note that the `Output Shape` are `(None, 128)` and `(None, 36)`, this means the model can receive dynamic batch size, i.e. if you input a batch of samples of size `k` (for calculate of SGD), the first layer will generate output of size `(k,128)`. Take a look at Appendix 1, where I explain `batch_input_shape`, `input_shape`, `batch_shape`."
   ]
  },
  {
   "cell_type": "markdown",
   "metadata": {},
   "source": [
    "## Training the model\n",
    "\n",
    " * Note that we have to set `batch_size` parameter when training. This is the size of samples used when calculate the stochastic gradient descent (SGD)\n",
    "\n",
    "     * If input `x` has N samples (i.e. `x.shape[0]=N`) and `batch_size=k`, then for every epoch\n",
    "\n",
    "         * `model.fit` will run $\\frac{N}{k}$ iterations, and\n",
    "         * each iteration calculate SGD with $k$ samples.\n",
    "     * That is, in every epoch the training procedure will \"sweep\" all the samples. So, small 'batch_size' means the weight will be updated more times in a epoch.\n",
    "      \n",
    " * You can estimate how many time it will take for 1 epochs. By setting\n",
    "     ```\n",
    "     initial_epoch = 0\n",
    "     nb_epoch = 1\n",
    "     ```\n",
    "   And if you set `initial_epoch=1` in the next time you execute the `model.fit`, it will initialize the weights with your previous result. That is pretty handy.\n",
    "   \n",
    " * Usually, to train RNN, you will want to turn off the `shuffle`. `shuffle=True` parameter will shuffle the sampels in each epoch (so that SGD will get random sample in different epoch). Since we are using $T$ time steps to build the model, it is no matter you turn on or not. However, if you somehow build a model with `batch_size=1` and `stateful=True`, you will need to turn of the shuffle. (See Appendix for the `stateful` argument)\n",
    " \n",
    " \n",
    " "
   ]
  },
  {
   "cell_type": "code",
   "execution_count": 20,
   "metadata": {
    "collapsed": false
   },
   "outputs": [],
   "source": [
    "history = model.fit(x_tmp, y_tmp,\n",
    "                  shuffle=False,\n",
    "                  batch_size=2^5,\n",
    "                  nb_epoch=1, # adjust this to calculate more epochs.\n",
    "                  verbose=0, # 0: no info displayed; 1: most info displayed;2: display info each epoch\n",
    "                  initial_epoch=0)\n",
    "#%%\n",
    "# AuxFcn.print_model_history(history)\n"
   ]
  },
  {
   "cell_type": "markdown",
   "metadata": {},
   "source": [
    " * Save and load model\n",
    "    You can save model by\n",
    "    ```\n",
    "    model.save('keras_char_RNN')\n",
    "    ```\n",
    "    And access it with:\n",
    "    ```\n",
    "    model = keras.models.load_model('keras_char_RNN')\n",
    "    ```\n",
    " * The training procedure will not give a good accuration, I got accuration about 0.63. But it is expected, if you got 90% correction rate, then Shakespeare is just a word machine without any inspiration... i.e. The model learned is Shakespear's grammar, structures, and words. Far from the idea or spirit of Shakespear."
   ]
  },
  {
   "cell_type": "markdown",
   "metadata": {},
   "source": [
    "## Fun time: Generate the txt\n",
    "To have fun fast, you can load the model I generated, which has ran about 60 epoch (each epoch took about 140s), don't forget to load the dictionary `ix2char` as well."
   ]
  },
  {
   "cell_type": "code",
   "execution_count": 23,
   "metadata": {
    "collapsed": false
   },
   "outputs": [],
   "source": [
    "my_ix2char = pickle.load( open( \"dic_used_LSTM_16_128.pkl\", \"rb\" ) )\n",
    "model_trained = load_model('keras_char_RNN')"
   ]
  },
  {
   "cell_type": "markdown",
   "metadata": {},
   "source": [
    "The following code generates the text"
   ]
  },
  {
   "cell_type": "code",
   "execution_count": 27,
   "metadata": {
    "collapsed": false
   },
   "outputs": [
    {
     "name": "stdout",
     "output_type": "stream",
     "text": [
      "diens if praise his grapie,\n",
      "and now that were shake shame thee lawn. it make my his eyes?\n",
      "\n",
      "menenius:\n",
      "it was and hear me of mind.\n",
      "or with the death motions,\n",
      "mutines unhoo jeily her entertablaness in the queen the duke of you make by edward\n",
      "that office corriag\n",
      "withal feo!\n",
      "will it the fat; our poss, myshling withaby gop with smavis,\n",
      "i am, but all stands not.\n",
      "\n",
      "lady atus:\n",
      "was with the friends him, triud!\n",
      "\n",
      "hasting:\n",
      "well, yet threng forth that not a pail;\n",
      "thou deserve terry keeps, to know humbance it, and that they mugabless cabiling given\n",
      "burght with wile wondelvy!\n",
      "lord, sut cursied the gray to tell me, sites by dangerand great business;\n",
      "go fan\n",
      "a power to dies 't\n",
      "bul the volsciagfel'd,\n",
      "when have did is frame?\n",
      "\n",
      "cominius:\n",
      "behay, i will know the truft, we prome, but it intworty knee, our enemies,\n",
      "whose as him 'fiselfuld me that know no more;\n",
      "must not smead in shed reasons!\n",
      "\n",
      "gloucester:\n",
      "say, making high even: for day i thank you aid; be not.\n",
      "\n",
      "first murderer:\n",
      "so thou wife from mine,\n",
      "less very the\n"
     ]
    }
   ],
   "source": [
    "#%%\n",
    "initial_x = x_nTd[250000,:,:]\n",
    "words = AuxFcn.txt_gen(model_trained,initial_x,n=1000,diction=my_ix2char) # This will generate 1000 words.\n",
    "print(words)"
   ]
  },
  {
   "cell_type": "markdown",
   "metadata": {},
   "source": [
    "## Appendix\n",
    "\n",
    "### 1. Confusion about `batch_input_shape`, `input_shape`, `batch_shape`\n",
    "\n",
    "I check the keras code to derive the following statement.\n",
    "\n",
    " * First, when mentioning \"batch\", it always means the size of sample used in stochastic gradient descent (SGD).\n",
    "\n",
    "    When build the first layer, if using `batch_input_shape` in `model.add(...)` and set the batch size to `10`, e.g.\n",
    "    ```\n",
    "    model.add(LSTM(m,batch_input_shape=(10,T,d)))\n",
    "    ```\n",
    "    Then when you doing `model.fit()`, you must assign `batch_size=10`, otherwise the program will give error message.\n",
    "\n",
    " * Consider this is a little bug, if you didn't assign `batch_size` in `model.fit()`, the SGD will run with default `batch_size=32`, which is not consistent with the `batch_input_shape[0]`. This is will raise `ValueError`\n",
    "\n",
    " * A better way is not to specify `batch_input_shape` when define the first layer; instead, using `input_shape=(T,d)`, which will equivalently assign \n",
    "    ```\n",
    "    batch_input_shape=(None,T,d)\n",
    "    ```\n",
    "    And when you want to train the model, assign `batch_size` in `model.fit()`\n",
    "\n",
    "    This way one can input any number of samples in the model to get predictions, otherwise, if you use `batch_input_shape` then the input must be consistent to the shape.\n",
    "\n",
    "### 2. What is `stateful` parameter\n",
    "You might be wondered what is `stateful` argument when building the first LSTM layer. i.e.\n",
    "```\n",
    "model.add(LSTM(...,stateful=False))\n",
    "```\n",
    "\n",
    "If using `stateful=True`, when parameter update by SGD for 1 batch (here we set `batchsize=10`), say we have the activation $h_1^\\star,...,h_T^\\star$ and $s_1^\\star,...,s_T^\\star$. Then, in the next batch, the $h_0$ will be set as $h_T^\\star$  and the $s_0$ will be set as $s_T^\\star$. \n",
    "The previous procedure doesn't make a lot of sense. I just put it the way so you can understand. So, when will we use `stateful=True`? For example: when every time step you want to output a prediction (rather than output a prediction using 6 time steps, as we are doing here) We will, in the end, build that word generator that using previous word to generate the next word, at that time, we will turn this parameter on.\n",
    "\n",
    "The defaut value is `stateful=False`.\n",
    "\n",
    "### 3. The dropout in LSTM \n",
    "To have dropout (note that the website of [keras](keras.io) uses keyword 'dropout', which cannot run in this version), use the following keywords when building LSTM layer (i.e. `model.add(LSTM(...,dropout_W=0.2,dropout_U=0.2))`. The describtion I found in keras module is:\n",
    " ```\n",
    " dropout_W: float between 0 and 1. Fraction of the input units to drop for input gates.\n",
    " dropout_U: float between 0 and 1. Fraction of the input units to drop for recurrent connections. \n",
    " ```\n"
   ]
  },
  {
   "cell_type": "markdown",
   "metadata": {},
   "source": [
    "### 4. What is `return_sequences` parameter\n",
    "This parameter is defined when assigning LSTM layer, e.g. \n",
    "```\n",
    "LSTM(m, input_shape=(T, d), return_sequences=True)\n",
    "```\n",
    "This will ouput hidden units of each time, i.e. $h_1,h_2,...,h_T$ to output. By default it is set to `False` means the layer will only ouput $h_T$, the last time step.\n",
    "\n",
    "Take a look at `Ouput Shape` at model summary:"
   ]
  },
  {
   "cell_type": "code",
   "execution_count": 15,
   "metadata": {
    "collapsed": false
   },
   "outputs": [
    {
     "name": "stdout",
     "output_type": "stream",
     "text": [
      "____________________________________________________________________________________________________\n",
      "Layer (type)                     Output Shape          Param #     Connected to                     \n",
      "====================================================================================================\n",
      "lstm_8 (LSTM)                    (None, 25, 128)       84480       lstm_input_7[0][0]               \n",
      "____________________________________________________________________________________________________\n",
      "dense_7 (Dense)                  (None, 25, 36)        4644        lstm_8[0][0]                     \n",
      "====================================================================================================\n",
      "Total params: 89,124\n",
      "Trainable params: 89,124\n",
      "Non-trainable params: 0\n",
      "____________________________________________________________________________________________________\n"
     ]
    }
   ],
   "source": [
    "m=128\n",
    "model = Sequential()\n",
    "model.add(LSTM(m, input_shape=(T, d), \n",
    "          return_sequences=True))\n",
    "model.add(Dense(d,activation='softmax'))\n",
    "model.summary()"
   ]
  },
  {
   "cell_type": "markdown",
   "metadata": {},
   "source": [
    " * Note that in this architecture, the `Output Shape` of the first layer is `(None,T,m)`, where `m` is the dimension of each $h_i$, $i=1,2,...,T$ .\n",
    "\n",
    "     * Compare to the model we had, the first layer's `Output Shape` is `(None,m)`.\n",
    "\n",
    " * So, in this case, the architecture is:\n",
    "    ```\n",
    "    y_1    y_2           y_T\n",
    "     |      |             |\n",
    "    h_1 -- h_2 -- ... -- h_T\n",
    "     |      |     ...     |\n",
    "    x_1    x_2    ...    x_T\n",
    "    ```\n",
    " * It is also clear that if you want to stack the LSTM models, you will have to on `return_sequences`."
   ]
  }
 ],
 "metadata": {
  "kernelspec": {
   "display_name": "Python 3",
   "language": "python",
   "name": "python3"
  },
  "language_info": {
   "codemirror_mode": {
    "name": "ipython",
    "version": 3
   },
   "file_extension": ".py",
   "mimetype": "text/x-python",
   "name": "python",
   "nbconvert_exporter": "python",
   "pygments_lexer": "ipython3",
   "version": "3.6.0"
  }
 },
 "nbformat": 4,
 "nbformat_minor": 2
}
